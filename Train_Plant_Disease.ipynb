{
 "cells": [
  {
   "cell_type": "markdown",
   "id": "3f0552f7-02fb-4cfd-bbf8-9a6e5439ab3a",
   "metadata": {},
   "source": [
    "## Importing Libraries"
   ]
  },
  {
   "cell_type": "code",
   "execution_count": 1,
   "id": "23355bab-0d3e-45f5-84b8-c0afd573b098",
   "metadata": {},
   "outputs": [],
   "source": [
    "import tensorflow as tf\n",
    "import matplotlib.pyplot as plt\n",
    "import pandas as pd\n",
    "import seaborn as sns"
   ]
  },
  {
   "cell_type": "markdown",
   "id": "eaf1fc66-3b18-47cb-b0ae-cc799e3cb851",
   "metadata": {},
   "source": [
    "## Data Preprocessing"
   ]
  },
  {
   "cell_type": "markdown",
   "id": "3f16e57b-4acd-4470-b2d2-5c7bf73f1a80",
   "metadata": {},
   "source": [
    "### Training Image Preprocessing"
   ]
  },
  {
   "cell_type": "code",
   "execution_count": 3,
   "id": "7b1e9fde-cfec-457b-b217-8c351b040c60",
   "metadata": {},
   "outputs": [
    {
     "name": "stdout",
     "output_type": "stream",
     "text": [
      "Found 19085 files belonging to 10 classes.\n"
     ]
    }
   ],
   "source": [
    "training_set = tf.keras.utils.image_dataset_from_directory(\n",
    "    'train',\n",
    "    labels=\"inferred\",\n",
    "    label_mode=\"categorical\",\n",
    "    class_names=None,\n",
    "    color_mode=\"rgb\",\n",
    "    batch_size=32,\n",
    "    image_size=(128, 128),\n",
    "    shuffle=True,\n",
    "    seed=None,\n",
    "    validation_split=None,\n",
    "    subset=None,\n",
    "    interpolation=\"bilinear\",\n",
    "    follow_links=False,\n",
    "    crop_to_aspect_ratio=False,\n",
    ")"
   ]
  },
  {
   "cell_type": "markdown",
   "id": "5c710535-ebbc-433a-9d6e-ef350cfafb31",
   "metadata": {},
   "source": [
    "### Validation Image Preprocessing"
   ]
  },
  {
   "cell_type": "code",
   "execution_count": 5,
   "id": "94d46ea6-c6de-42a2-b418-75dfaff72430",
   "metadata": {},
   "outputs": [
    {
     "name": "stdout",
     "output_type": "stream",
     "text": [
      "Found 4745 files belonging to 10 classes.\n"
     ]
    }
   ],
   "source": [
    "validation_set = tf.keras.utils.image_dataset_from_directory(\n",
    "    'valid',\n",
    "    labels=\"inferred\",\n",
    "    label_mode=\"categorical\",\n",
    "    class_names=None,\n",
    "    color_mode=\"rgb\",\n",
    "    batch_size=32,\n",
    "    image_size=(128, 128),\n",
    "    shuffle=True,\n",
    "    seed=None,\n",
    "    validation_split=None,\n",
    "    subset=None,\n",
    "    interpolation=\"bilinear\",\n",
    "    follow_links=False,\n",
    "    crop_to_aspect_ratio=False,\n",
    ")"
   ]
  },
  {
   "cell_type": "markdown",
   "id": "cdead546-f094-4c1b-aa43-5ee2ed45cf97",
   "metadata": {},
   "source": [
    "## Building Model"
   ]
  },
  {
   "cell_type": "code",
   "execution_count": 7,
   "id": "9144a67a-c0c9-4ae7-8216-e101c3279262",
   "metadata": {},
   "outputs": [],
   "source": [
    "from tensorflow.keras.layers import Dense,Conv2D,Flatten,MaxPool2D,Dropout\n",
    "from tensorflow.keras.models import Sequential"
   ]
  },
  {
   "cell_type": "code",
   "execution_count": null,
   "id": "827949c3-d5e4-4017-856c-3d296a29ab46",
   "metadata": {},
   "outputs": [],
   "source": [
    "model = Sequential()"
   ]
  },
  {
   "cell_type": "markdown",
   "id": "726f1e35-227e-48ad-931e-b6a29cfd5f13",
   "metadata": {},
   "source": [
    "## Building Convolution Layer"
   ]
  },
  {
   "cell_type": "code",
   "execution_count": 11,
   "id": "fd4654da-1d4c-46b2-beca-dcde52183819",
   "metadata": {},
   "outputs": [],
   "source": [
    "model.add(Conv2D(filters=32,kernel_size=3,padding='same',activation='relu',input_shape=[128,128,3]))\n",
    "model.add(Conv2D(filters=32,kernel_size=3,activation='relu'))\n",
    "model.add(MaxPool2D(pool_size=2,strides=2))"
   ]
  },
  {
   "cell_type": "code",
   "execution_count": 13,
   "id": "ee6fb886-d7f0-4ebd-a481-edd6df6b083d",
   "metadata": {},
   "outputs": [],
   "source": [
    "model.add(Conv2D(filters=64,kernel_size=3,padding='same',activation='relu'))\n",
    "model.add(Conv2D(filters=64,kernel_size=3,activation='relu'))\n",
    "model.add(MaxPool2D(pool_size=2,strides=2))"
   ]
  },
  {
   "cell_type": "code",
   "execution_count": 15,
   "id": "8ec6ab09-7533-44ba-b642-041177353f31",
   "metadata": {},
   "outputs": [],
   "source": [
    "model.add(Conv2D(filters=128,kernel_size=3,padding='same',activation='relu'))\n",
    "model.add(Conv2D(filters=128,kernel_size=3,activation='relu'))\n",
    "model.add(MaxPool2D(pool_size=2,strides=2))"
   ]
  },
  {
   "cell_type": "code",
   "execution_count": 17,
   "id": "96ffd1e1-6c52-47a8-a128-16fd3ee06adf",
   "metadata": {},
   "outputs": [],
   "source": [
    "model.add(Conv2D(filters=256,kernel_size=3,padding='same',activation='relu'))\n",
    "model.add(Conv2D(filters=256,kernel_size=3,activation='relu'))\n",
    "model.add(MaxPool2D(pool_size=2,strides=2))"
   ]
  },
  {
   "cell_type": "code",
   "execution_count": 19,
   "id": "eafe86a1-18f1-4c65-9b8a-06147ce81d08",
   "metadata": {},
   "outputs": [],
   "source": [
    "model.add(Conv2D(filters=512,kernel_size=3,padding='same',activation='relu'))\n",
    "model.add(Conv2D(filters=512,kernel_size=3,activation='relu'))\n",
    "model.add(MaxPool2D(pool_size=2,strides=2))"
   ]
  },
  {
   "cell_type": "code",
   "execution_count": 21,
   "id": "35fb7220-8b33-4a2c-9905-667027b14fbe",
   "metadata": {},
   "outputs": [],
   "source": [
    "model.add(Dropout(0.25))  # To Avoid Overfitting"
   ]
  },
  {
   "cell_type": "code",
   "execution_count": 23,
   "id": "85824118-1294-4c33-b4fe-b63f73f262b7",
   "metadata": {},
   "outputs": [],
   "source": [
    "model.add(Flatten())"
   ]
  },
  {
   "cell_type": "code",
   "execution_count": 25,
   "id": "36bf2c6d-bad3-4eba-8071-52c372f1b449",
   "metadata": {},
   "outputs": [],
   "source": [
    "model.add(Dense(units=1500,activation='relu'))"
   ]
  },
  {
   "cell_type": "code",
   "execution_count": 27,
   "id": "78bb9d04-cd73-496c-b89e-ffa3c443b7cb",
   "metadata": {},
   "outputs": [],
   "source": [
    "model.add(Dropout(0.4))"
   ]
  },
  {
   "cell_type": "code",
   "execution_count": 29,
   "id": "d1f39e4e-ea6e-471c-81e5-fb202bbc59cc",
   "metadata": {},
   "outputs": [],
   "source": [
    "# Output Layer\n",
    "model.add(Dense(units=10,activation='softmax'))"
   ]
  },
  {
   "cell_type": "markdown",
   "id": "200034fc-8d13-4729-adc9-ecf7d05066e6",
   "metadata": {},
   "source": [
    "## Compiling Model"
   ]
  },
  {
   "cell_type": "code",
   "execution_count": 32,
   "id": "6da3f684-75dc-4814-8139-e6348e51dfae",
   "metadata": {},
   "outputs": [],
   "source": [
    "model.compile(optimizer=tf.keras.optimizers.Adam(\n",
    "    learning_rate=0.0001),loss='categorical_crossentropy',metrics=['accuracy'])"
   ]
  },
  {
   "cell_type": "code",
   "execution_count": 34,
   "id": "2955c916-314a-4c9f-a0bb-b27e4a47b534",
   "metadata": {
    "scrolled": true
   },
   "outputs": [
    {
     "name": "stdout",
     "output_type": "stream",
     "text": [
      "Model: \"sequential\"\n",
      "_________________________________________________________________\n",
      " Layer (type)                Output Shape              Param #   \n",
      "=================================================================\n",
      " conv2d (Conv2D)             (None, 128, 128, 32)      896       \n",
      "                                                                 \n",
      " conv2d_1 (Conv2D)           (None, 126, 126, 32)      9248      \n",
      "                                                                 \n",
      " max_pooling2d (MaxPooling2D  (None, 63, 63, 32)       0         \n",
      " )                                                               \n",
      "                                                                 \n",
      " conv2d_2 (Conv2D)           (None, 63, 63, 64)        18496     \n",
      "                                                                 \n",
      " conv2d_3 (Conv2D)           (None, 61, 61, 64)        36928     \n",
      "                                                                 \n",
      " max_pooling2d_1 (MaxPooling  (None, 30, 30, 64)       0         \n",
      " 2D)                                                             \n",
      "                                                                 \n",
      " conv2d_4 (Conv2D)           (None, 30, 30, 128)       73856     \n",
      "                                                                 \n",
      " conv2d_5 (Conv2D)           (None, 28, 28, 128)       147584    \n",
      "                                                                 \n",
      " max_pooling2d_2 (MaxPooling  (None, 14, 14, 128)      0         \n",
      " 2D)                                                             \n",
      "                                                                 \n",
      " conv2d_6 (Conv2D)           (None, 14, 14, 256)       295168    \n",
      "                                                                 \n",
      " conv2d_7 (Conv2D)           (None, 12, 12, 256)       590080    \n",
      "                                                                 \n",
      " max_pooling2d_3 (MaxPooling  (None, 6, 6, 256)        0         \n",
      " 2D)                                                             \n",
      "                                                                 \n",
      " conv2d_8 (Conv2D)           (None, 6, 6, 512)         1180160   \n",
      "                                                                 \n",
      " conv2d_9 (Conv2D)           (None, 4, 4, 512)         2359808   \n",
      "                                                                 \n",
      " max_pooling2d_4 (MaxPooling  (None, 2, 2, 512)        0         \n",
      " 2D)                                                             \n",
      "                                                                 \n",
      " dropout (Dropout)           (None, 2, 2, 512)         0         \n",
      "                                                                 \n",
      " flatten (Flatten)           (None, 2048)              0         \n",
      "                                                                 \n",
      " dense (Dense)               (None, 1500)              3073500   \n",
      "                                                                 \n",
      " dropout_1 (Dropout)         (None, 1500)              0         \n",
      "                                                                 \n",
      " dense_1 (Dense)             (None, 10)                15010     \n",
      "                                                                 \n",
      "=================================================================\n",
      "Total params: 7,800,734\n",
      "Trainable params: 7,800,734\n",
      "Non-trainable params: 0\n",
      "_________________________________________________________________\n"
     ]
    }
   ],
   "source": [
    "model.summary()"
   ]
  },
  {
   "cell_type": "markdown",
   "id": "f0ed1ccd-2daa-4487-ab04-16ce9e0db8e8",
   "metadata": {},
   "source": [
    "## Model Training"
   ]
  },
  {
   "cell_type": "code",
   "execution_count": 36,
   "id": "2208b81c-8c94-4af5-af8f-65fe17a76add",
   "metadata": {},
   "outputs": [
    {
     "name": "stdout",
     "output_type": "stream",
     "text": [
      "Epoch 1/10\n",
      "597/597 [==============================] - 2266s 4s/step - loss: 0.7095 - accuracy: 0.7567 - val_loss: 0.3546 - val_accuracy: 0.8786\n",
      "Epoch 2/10\n",
      "597/597 [==============================] - 2182s 4s/step - loss: 0.2213 - accuracy: 0.9253 - val_loss: 0.1336 - val_accuracy: 0.9524\n",
      "Epoch 3/10\n",
      "597/597 [==============================] - 2220s 4s/step - loss: 0.1471 - accuracy: 0.9509 - val_loss: 0.1258 - val_accuracy: 0.9572\n",
      "Epoch 4/10\n",
      "597/597 [==============================] - 2245s 4s/step - loss: 0.1139 - accuracy: 0.9623 - val_loss: 0.0810 - val_accuracy: 0.9726\n",
      "Epoch 5/10\n",
      "597/597 [==============================] - 2208s 4s/step - loss: 0.0819 - accuracy: 0.9720 - val_loss: 0.0593 - val_accuracy: 0.9817\n",
      "Epoch 6/10\n",
      "597/597 [==============================] - 2465s 4s/step - loss: 0.0668 - accuracy: 0.9780 - val_loss: 0.0688 - val_accuracy: 0.9768\n",
      "Epoch 7/10\n",
      "597/597 [==============================] - 2593s 4s/step - loss: 0.0570 - accuracy: 0.9809 - val_loss: 0.0592 - val_accuracy: 0.9815\n",
      "Epoch 8/10\n",
      "597/597 [==============================] - 2250s 4s/step - loss: 0.0436 - accuracy: 0.9860 - val_loss: 0.0829 - val_accuracy: 0.9751\n",
      "Epoch 9/10\n",
      "597/597 [==============================] - 2243s 4s/step - loss: 0.0446 - accuracy: 0.9856 - val_loss: 0.1075 - val_accuracy: 0.9659\n",
      "Epoch 10/10\n",
      "597/597 [==============================] - 2225s 4s/step - loss: 0.0415 - accuracy: 0.9858 - val_loss: 0.1069 - val_accuracy: 0.9631\n"
     ]
    }
   ],
   "source": [
    "training_history = model.fit(x=training_set,validation_data=validation_set,epochs=10)"
   ]
  },
  {
   "cell_type": "markdown",
   "id": "7680380c-4630-40e4-8edf-62734f723474",
   "metadata": {},
   "source": [
    "### Model Evaluation"
   ]
  },
  {
   "cell_type": "code",
   "execution_count": 38,
   "id": "2f0bd417-6f6e-4c57-a51a-6c9f3e7f714d",
   "metadata": {},
   "outputs": [
    {
     "name": "stdout",
     "output_type": "stream",
     "text": [
      "597/597 [==============================] - 531s 889ms/step - loss: 0.0618 - accuracy: 0.9770\n"
     ]
    }
   ],
   "source": [
    "# Model Evaluation on Training set\n",
    "train_loss,train_acc = model.evaluate(training_set)"
   ]
  },
  {
   "cell_type": "code",
   "execution_count": 40,
   "id": "b2e748e1-3f9e-4129-8026-fe09ab566dd3",
   "metadata": {},
   "outputs": [
    {
     "name": "stdout",
     "output_type": "stream",
     "text": [
      "0.061840180307626724 0.9769976139068604\n"
     ]
    }
   ],
   "source": [
    "print(train_loss,train_acc)"
   ]
  },
  {
   "cell_type": "code",
   "execution_count": 42,
   "id": "92d74f83-7143-4a35-91d5-0366c26a0516",
   "metadata": {},
   "outputs": [
    {
     "name": "stdout",
     "output_type": "stream",
     "text": [
      "149/149 [==============================] - 137s 911ms/step - loss: 0.1069 - accuracy: 0.9631\n"
     ]
    }
   ],
   "source": [
    "# Model Evaluation on Validation set\n",
    "val_loss,val_acc = model.evaluate(validation_set)"
   ]
  },
  {
   "cell_type": "code",
   "execution_count": 43,
   "id": "a6107487-72b1-409e-af7b-c44b08acf5a1",
   "metadata": {},
   "outputs": [
    {
     "name": "stdout",
     "output_type": "stream",
     "text": [
      "0.10689707845449448 0.9631190896034241\n"
     ]
    }
   ],
   "source": [
    "print(val_loss,val_acc)"
   ]
  },
  {
   "cell_type": "markdown",
   "id": "6750eb99-db19-420f-9ffb-5906af6e75e2",
   "metadata": {},
   "source": [
    "## Saving Model"
   ]
  },
  {
   "cell_type": "code",
   "execution_count": 46,
   "id": "bbcb2090-ad50-42ac-acc2-d3d220b709bf",
   "metadata": {},
   "outputs": [],
   "source": [
    "model.save(\"trained_model.keras\")"
   ]
  },
  {
   "cell_type": "code",
   "execution_count": 48,
   "id": "6c77f898-d8ae-42eb-88ce-1f673da790aa",
   "metadata": {},
   "outputs": [
    {
     "data": {
      "text/plain": [
       "{'loss': [0.7095149755477905,\n",
       "  0.22129078209400177,\n",
       "  0.14709383249282837,\n",
       "  0.11394292861223221,\n",
       "  0.0819087028503418,\n",
       "  0.06675635278224945,\n",
       "  0.056994300335645676,\n",
       "  0.04357955604791641,\n",
       "  0.044645242393016815,\n",
       "  0.04150671884417534],\n",
       " 'accuracy': [0.7567199468612671,\n",
       "  0.9252816438674927,\n",
       "  0.9508514404296875,\n",
       "  0.9623264074325562,\n",
       "  0.9720199108123779,\n",
       "  0.9780455827713013,\n",
       "  0.9808750152587891,\n",
       "  0.9859575629234314,\n",
       "  0.9856431484222412,\n",
       "  0.9858003854751587],\n",
       " 'val_loss': [0.35463038086891174,\n",
       "  0.13359595835208893,\n",
       "  0.12575672566890717,\n",
       "  0.08102687448263168,\n",
       "  0.05931634455919266,\n",
       "  0.06880785524845123,\n",
       "  0.05915817990899086,\n",
       "  0.08288422971963882,\n",
       "  0.10747058689594269,\n",
       "  0.10689711570739746],\n",
       " 'val_accuracy': [0.8786090612411499,\n",
       "  0.9523709416389465,\n",
       "  0.9572181105613708,\n",
       "  0.9726027250289917,\n",
       "  0.9816648960113525,\n",
       "  0.9768177270889282,\n",
       "  0.9814541339874268,\n",
       "  0.9751316905021667,\n",
       "  0.9658588171005249,\n",
       "  0.9631190896034241]}"
      ]
     },
     "execution_count": 48,
     "metadata": {},
     "output_type": "execute_result"
    }
   ],
   "source": [
    "training_history.history"
   ]
  },
  {
   "cell_type": "code",
   "execution_count": 50,
   "id": "3ee8317e-f3f8-4db2-83c9-bcb7347a6b5b",
   "metadata": {},
   "outputs": [
    {
     "data": {
      "text/plain": [
       "[0.7567199468612671,\n",
       " 0.9252816438674927,\n",
       " 0.9508514404296875,\n",
       " 0.9623264074325562,\n",
       " 0.9720199108123779,\n",
       " 0.9780455827713013,\n",
       " 0.9808750152587891,\n",
       " 0.9859575629234314,\n",
       " 0.9856431484222412,\n",
       " 0.9858003854751587]"
      ]
     },
     "execution_count": 50,
     "metadata": {},
     "output_type": "execute_result"
    }
   ],
   "source": [
    "training_history.history['accuracy']"
   ]
  },
  {
   "cell_type": "code",
   "execution_count": 52,
   "id": "affb2bed-0d66-47ec-8323-f23eacc248ee",
   "metadata": {},
   "outputs": [],
   "source": [
    "# Recording History in json\n",
    "import json\n",
    "with open(\"training_hist.json\",\"w\") as f:\n",
    "    json.dump(training_history.history,f)"
   ]
  },
  {
   "cell_type": "markdown",
   "id": "4d528a9a-8fc3-4ae9-b499-bd4c5eeb2d11",
   "metadata": {},
   "source": [
    "## Accuracy Visualization"
   ]
  },
  {
   "cell_type": "code",
   "execution_count": 54,
   "id": "68009ccd-626e-4408-8c95-588243f2c58e",
   "metadata": {},
   "outputs": [
    {
     "data": {
      "image/png": "[encoded data removed]",
      "text/plain": [
       "<Figure size 640x480 with 1 Axes>"
      ]
     },
     "metadata": {},
     "output_type": "display_data"
    }
   ],
   "source": [
    "epochs = [i for i in range(1,11)]\n",
    "plt.plot(epochs,training_history.history['accuracy'],color='red',label='Training Accuracy')\n",
    "plt.plot(epochs,training_history.history['val_accuracy'],color='blue',label='Validation Accuracy')\n",
    "plt.xlabel(\"No. of epochs\")\n",
    "plt.ylabel(\"Accuracy Result\")\n",
    "plt.title(\"Visualization of Accuracy Result\")\n",
    "plt.legend()\n",
    "plt.show()"
   ]
  },
  {
   "cell_type": "markdown",
   "id": "30d64df4-914a-47d7-b495-9b9feb7ce673",
   "metadata": {},
   "source": [
    "## Some Other Metrics for Model Evaluation"
   ]
  },
  {
   "cell_type": "code",
   "execution_count": 56,
   "id": "0f1af89f-3bd9-4322-b549-7d6d5c6324cb",
   "metadata": {},
   "outputs": [
    {
     "data": {
      "text/plain": [
       "['Apple___Apple_scab',\n",
       " 'Apple___Cedar_apple_rust',\n",
       " 'Apple___healthy',\n",
       " 'Corn_(maize)___Common_rust_',\n",
       " 'Corn_(maize)___healthy',\n",
       " 'Potato___Early_blight',\n",
       " 'Potato___healthy',\n",
       " 'Tomato___Early_blight',\n",
       " 'Tomato___Tomato_Yellow_Leaf_Curl_Virus',\n",
       " 'Tomato___healthy']"
      ]
     },
     "execution_count": 56,
     "metadata": {},
     "output_type": "execute_result"
    }
   ],
   "source": [
    "class_name = validation_set.class_names\n",
    "class_name"
   ]
  },
  {
   "cell_type": "code",
   "execution_count": 60,
   "id": "91c5e7ea-740a-4df5-9035-7cdb7fe92f4a",
   "metadata": {},
   "outputs": [
    {
     "name": "stdout",
     "output_type": "stream",
     "text": [
      "Found 4745 files belonging to 10 classes.\n"
     ]
    }
   ],
   "source": [
    "test_set = tf.keras.utils.image_dataset_from_directory(\n",
    "    'valid',\n",
    "    labels=\"inferred\",\n",
    "    label_mode=\"categorical\",\n",
    "    class_names=None,\n",
    "    color_mode=\"rgb\",\n",
    "    batch_size=32,\n",
    "    image_size=(128, 128),\n",
    "    shuffle=False,\n",
    "    seed=None,\n",
    "    validation_split=None,\n",
    "    subset=None,\n",
    "    interpolation=\"bilinear\",\n",
    "    follow_links=False,\n",
    "    crop_to_aspect_ratio=False,\n",
    ")"
   ]
  },
  {
   "cell_type": "code",
   "execution_count": 62,
   "id": "ce155f69-a86d-42d9-bf1c-71d05980b7ad",
   "metadata": {},
   "outputs": [
    {
     "name": "stdout",
     "output_type": "stream",
     "text": [
      "149/149 [==============================] - 113s 757ms/step\n"
     ]
    },
    {
     "data": {
      "text/plain": [
       "(array([[1.0000000e+00, 2.2542541e-10, 1.3893973e-09, ..., 1.5023167e-09,\n",
       "         2.0271217e-12, 3.3177336e-11],\n",
       "        [1.0000000e+00, 7.1726458e-10, 1.0077534e-10, ..., 6.9717940e-13,\n",
       "         2.3511043e-15, 1.8879929e-13],\n",
       "        [1.0000000e+00, 6.0343043e-11, 1.6458543e-13, ..., 6.2389953e-13,\n",
       "         4.8899053e-16, 2.8730982e-12],\n",
       "        ...,\n",
       "        [2.5462869e-05, 1.0201187e-04, 4.4276218e-05, ..., 6.6598614e-06,\n",
       "         9.3341851e-07, 9.9981755e-01],\n",
       "        [4.0441260e-05, 8.3266816e-05, 1.2941975e-05, ..., 2.5225074e-06,\n",
       "         9.0915552e-07, 9.9983382e-01],\n",
       "        [4.3029218e-06, 1.2106666e-05, 8.1980634e-06, ..., 4.4622374e-04,\n",
       "         4.6706054e-07, 9.9949861e-01]], dtype=float32),\n",
       " (4745, 10))"
      ]
     },
     "execution_count": 62,
     "metadata": {},
     "output_type": "execute_result"
    }
   ],
   "source": [
    "y_pred = model.predict(test_set)\n",
    "y_pred,y_pred.shape"
   ]
  },
  {
   "cell_type": "code",
   "execution_count": 64,
   "id": "f7a951da-e6e6-47f3-b17b-7f00a8933c5a",
   "metadata": {},
   "outputs": [],
   "source": [
    "predicted_categories = tf.argmax(y_pred,axis=1)"
   ]
  },
  {
   "cell_type": "code",
   "execution_count": 66,
   "id": "3bfe34c9-d0f4-47e8-ac13-066da8081640",
   "metadata": {},
   "outputs": [
    {
     "data": {
      "text/plain": [
       "<tf.Tensor: shape=(4745,), dtype=int64, numpy=array([0, 0, 0, ..., 9, 9, 9], dtype=int64)>"
      ]
     },
     "execution_count": 66,
     "metadata": {},
     "output_type": "execute_result"
    }
   ],
   "source": [
    "predicted_categories"
   ]
  },
  {
   "cell_type": "code",
   "execution_count": 68,
   "id": "525dc390-1b9d-42a3-8def-2f24529c51d9",
   "metadata": {},
   "outputs": [
    {
     "data": {
      "text/plain": [
       "<tf.Tensor: shape=(4745, 10), dtype=float32, numpy=\n",
       "array([[1., 0., 0., ..., 0., 0., 0.],\n",
       "       [1., 0., 0., ..., 0., 0., 0.],\n",
       "       [1., 0., 0., ..., 0., 0., 0.],\n",
       "       ...,\n",
       "       [0., 0., 0., ..., 0., 0., 1.],\n",
       "       [0., 0., 0., ..., 0., 0., 1.],\n",
       "       [0., 0., 0., ..., 0., 0., 1.]], dtype=float32)>"
      ]
     },
     "execution_count": 68,
     "metadata": {},
     "output_type": "execute_result"
    }
   ],
   "source": [
    "true_categories = tf.concat([y for x,y in test_set],axis=0)\n",
    "true_categories"
   ]
  },
  {
   "cell_type": "code",
   "execution_count": 70,
   "id": "2effc743-9bbf-4ee6-967f-ab9fc91b2613",
   "metadata": {},
   "outputs": [
    {
     "data": {
      "text/plain": [
       "<tf.Tensor: shape=(4745,), dtype=int64, numpy=array([0, 0, 0, ..., 9, 9, 9], dtype=int64)>"
      ]
     },
     "execution_count": 70,
     "metadata": {},
     "output_type": "execute_result"
    }
   ],
   "source": [
    "Y_true = tf.argmax(true_categories,axis=1)\n",
    "Y_true"
   ]
  },
  {
   "cell_type": "code",
   "execution_count": 72,
   "id": "013148f3-0b7d-4233-a8ea-82cd11340be6",
   "metadata": {},
   "outputs": [],
   "source": [
    "from sklearn.metrics import classification_report,confusion_matrix"
   ]
  },
  {
   "cell_type": "code",
   "execution_count": 74,
   "id": "2f5cfb5c-269f-420f-8ea9-73df6176c58e",
   "metadata": {},
   "outputs": [
    {
     "name": "stdout",
     "output_type": "stream",
     "text": [
      "                                        precision    recall  f1-score   support\n",
      "\n",
      "                    Apple___Apple_scab       0.83      0.99      0.90       499\n",
      "              Apple___Cedar_apple_rust       0.97      0.99      0.98       435\n",
      "                       Apple___healthy       1.00      0.81      0.89       497\n",
      "           Corn_(maize)___Common_rust_       1.00      1.00      1.00       477\n",
      "                Corn_(maize)___healthy       1.00      1.00      1.00       465\n",
      "                 Potato___Early_blight       0.98      0.95      0.97       480\n",
      "                      Potato___healthy       0.96      0.97      0.97       451\n",
      "                 Tomato___Early_blight       0.94      0.97      0.95       475\n",
      "Tomato___Tomato_Yellow_Leaf_Curl_Virus       0.99      1.00      1.00       490\n",
      "                      Tomato___healthy       1.00      0.96      0.98       476\n",
      "\n",
      "                              accuracy                           0.96      4745\n",
      "                             macro avg       0.97      0.96      0.96      4745\n",
      "                          weighted avg       0.97      0.96      0.96      4745\n",
      "\n"
     ]
    }
   ],
   "source": [
    "print(classification_report(Y_true,predicted_categories,target_names=class_name))"
   ]
  },
  {
   "cell_type": "code",
   "execution_count": 76,
   "id": "f0dfb0a5-75d7-4d36-ab3b-9cfacc9633d4",
   "metadata": {},
   "outputs": [
    {
     "data": {
      "text/plain": [
       "array([[493,   0,   0,   1,   1,   2,   1,   1,   0,   0],\n",
       "       [  4, 430,   0,   0,   0,   0,   0,   1,   0,   0],\n",
       "       [ 83,   0, 402,   0,   0,   0,  10,   2,   0,   0],\n",
       "       [  0,   0,   0, 477,   0,   0,   0,   0,   0,   0],\n",
       "       [  0,   0,   0,   0, 465,   0,   0,   0,   0,   0],\n",
       "       [  3,   0,   0,   1,   0, 457,   0,  19,   0,   0],\n",
       "       [  3,  10,   0,   0,   0,   0, 438,   0,   0,   0],\n",
       "       [  1,   2,   1,   0,   0,   0,   5, 462,   4,   0],\n",
       "       [  0,   0,   0,   0,   0,   0,   0,   0, 490,   0],\n",
       "       [  4,   2,   0,   0,   0,   5,   0,   9,   0, 456]], dtype=int64)"
      ]
     },
     "execution_count": 76,
     "metadata": {},
     "output_type": "execute_result"
    }
   ],
   "source": [
    "cm = confusion_matrix(Y_true,predicted_categories)\n",
    "cm"
   ]
  },
  {
   "cell_type": "markdown",
   "id": "3e6dafa4-5dcb-42b5-a03f-569ced8abbf5",
   "metadata": {},
   "source": [
    "### Confusion Matrix Visualization"
   ]
  },
  {
   "cell_type": "code",
   "execution_count": 86,
   "id": "b3597371-05e8-4dad-9ce5-893d37639699",
   "metadata": {},
   "outputs": [
    {
     "data": {
      "image/png": "[encoded data removed]",
      "text/plain": [
       "<Figure size 3000x3000 with 2 Axes>"
      ]
     },
     "metadata": {},
     "output_type": "display_data"
    }
   ],
   "source": [
    "plt.figure(figsize=(30,30))\n",
    "sns.heatmap(cm,annot=True,annot_kws={'size':15})\n",
    "plt.xlabel(\"Predicted Class\",fontsize=20)\n",
    "plt.ylabel(\"Actual Class\",fontsize=20)\n",
    "plt.title(\"Leaf Disease Prediction Confusion Matrix\",fontsize=25)\n",
    "plt.show()"
   ]
  },
  {
   "cell_type": "code",
   "execution_count": null,
   "id": "ffd7f4d2-76a8-4feb-a35f-1389f544986b",
   "metadata": {},
   "outputs": [],
   "source": []
  }
 ],
 "metadata": {
  "kernelspec": {
   "display_name": "Python [conda env:my_env]",
   "language": "python",
   "name": "conda-env-my_env-py"
  },
  "language_info": {
   "codemirror_mode": {
    "name": "ipython",
    "version": 3
   },
   "file_extension": ".py",
   "mimetype": "text/x-python",
   "name": "python",
   "nbconvert_exporter": "python",
   "pygments_lexer": "ipython3",
   "version": "3.10.16"
  }
 },
 "nbformat": 4,
 "nbformat_minor": 5
}
